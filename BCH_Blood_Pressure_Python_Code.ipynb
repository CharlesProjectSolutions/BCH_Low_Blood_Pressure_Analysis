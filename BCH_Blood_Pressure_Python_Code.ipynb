{
 "cells": [
  {
   "cell_type": "markdown",
   "id": "fa52ad28",
   "metadata": {
    "heading_collapsed": true
   },
   "source": [
    "### Step 1: Data Loading & Inspection"
   ]
  },
  {
   "cell_type": "markdown",
   "id": "aa51938b",
   "metadata": {
    "hidden": true
   },
   "source": [
    "✔ **Loading the necessary depencies.**\n",
    "\n",
    "✔ **Reading both Demographics.csv and BloodPressure.csv files into pandas DataFrame.**\n",
    "\n",
    "✔ **Checking the shape, data type, and format of the data.**\n",
    "\n",
    "✔ **Checking for missing values and any formatting issues.**\n",
    "\n",
    "✔ **Checking for duplication or duplicated data.**\n",
    "\n",
    "✔ **Identify any potential issues or inconsistencies.**"
   ]
  },
  {
   "cell_type": "code",
   "execution_count": 1,
   "id": "b53b24f8",
   "metadata": {
    "hidden": true
   },
   "outputs": [],
   "source": [
    "import pandas as pd\n",
    "import matplotlib.pyplot as plt\n",
    "import seaborn as sns"
   ]
  },
  {
   "cell_type": "code",
   "execution_count": null,
   "id": "b939341f",
   "metadata": {
    "hidden": true
   },
   "outputs": [],
   "source": []
  },
  {
   "cell_type": "code",
   "execution_count": 2,
   "id": "7c8c058c",
   "metadata": {
    "hidden": true
   },
   "outputs": [
    {
     "data": {
      "text/html": [
       "<div>\n",
       "<style scoped>\n",
       "    .dataframe tbody tr th:only-of-type {\n",
       "        vertical-align: middle;\n",
       "    }\n",
       "\n",
       "    .dataframe tbody tr th {\n",
       "        vertical-align: top;\n",
       "    }\n",
       "\n",
       "    .dataframe thead th {\n",
       "        text-align: right;\n",
       "    }\n",
       "</style>\n",
       "<table border=\"1\" class=\"dataframe\">\n",
       "  <thead>\n",
       "    <tr style=\"text-align: right;\">\n",
       "      <th></th>\n",
       "      <th>PERSON_ID</th>\n",
       "      <th>SERVICE_DATE</th>\n",
       "      <th>AGE_MONTHS</th>\n",
       "    </tr>\n",
       "  </thead>\n",
       "  <tbody>\n",
       "    <tr>\n",
       "      <th>0</th>\n",
       "      <td>123</td>\n",
       "      <td>1/5/2016</td>\n",
       "      <td>46</td>\n",
       "    </tr>\n",
       "    <tr>\n",
       "      <th>1</th>\n",
       "      <td>123</td>\n",
       "      <td>2/13/2016</td>\n",
       "      <td>47</td>\n",
       "    </tr>\n",
       "    <tr>\n",
       "      <th>2</th>\n",
       "      <td>456</td>\n",
       "      <td>6/8/2015</td>\n",
       "      <td>40</td>\n",
       "    </tr>\n",
       "    <tr>\n",
       "      <th>3</th>\n",
       "      <td>456</td>\n",
       "      <td>8/15/2015</td>\n",
       "      <td>42</td>\n",
       "    </tr>\n",
       "    <tr>\n",
       "      <th>4</th>\n",
       "      <td>456</td>\n",
       "      <td>5/21/2015</td>\n",
       "      <td>39</td>\n",
       "    </tr>\n",
       "  </tbody>\n",
       "</table>\n",
       "</div>"
      ],
      "text/plain": [
       "   PERSON_ID SERVICE_DATE  AGE_MONTHS\n",
       "0        123     1/5/2016          46\n",
       "1        123    2/13/2016          47\n",
       "2        456     6/8/2015          40\n",
       "3        456    8/15/2015          42\n",
       "4        456    5/21/2015          39"
      ]
     },
     "execution_count": 2,
     "metadata": {},
     "output_type": "execute_result"
    }
   ],
   "source": [
    "# Load the datasets\n",
    "demographics_df = pd.read_csv('Demographics.csv')\n",
    "\n",
    "blood_pressure_df = pd.read_csv('BloodPressure.csv')\n",
    "\n",
    "# Display the first few rows of each dataset for structure understanding\n",
    "demographics_df.head()"
   ]
  },
  {
   "cell_type": "code",
   "execution_count": 60,
   "id": "5dbb0073",
   "metadata": {
    "hidden": true
   },
   "outputs": [
    {
     "data": {
      "text/html": [
       "<div>\n",
       "<style scoped>\n",
       "    .dataframe tbody tr th:only-of-type {\n",
       "        vertical-align: middle;\n",
       "    }\n",
       "\n",
       "    .dataframe tbody tr th {\n",
       "        vertical-align: top;\n",
       "    }\n",
       "\n",
       "    .dataframe thead th {\n",
       "        text-align: right;\n",
       "    }\n",
       "</style>\n",
       "<table border=\"1\" class=\"dataframe\">\n",
       "  <thead>\n",
       "    <tr style=\"text-align: right;\">\n",
       "      <th></th>\n",
       "      <th>PERSON_ID</th>\n",
       "      <th>TIME</th>\n",
       "      <th>SYSTOLIC_BLOOD_PRESSURE</th>\n",
       "    </tr>\n",
       "  </thead>\n",
       "  <tbody>\n",
       "    <tr>\n",
       "      <th>0</th>\n",
       "      <td>123.0</td>\n",
       "      <td>1/5/2016 7:16</td>\n",
       "      <td>33</td>\n",
       "    </tr>\n",
       "    <tr>\n",
       "      <th>1</th>\n",
       "      <td>123.0</td>\n",
       "      <td>1/5/2016 7:17</td>\n",
       "      <td>75</td>\n",
       "    </tr>\n",
       "    <tr>\n",
       "      <th>2</th>\n",
       "      <td>123.0</td>\n",
       "      <td>1/5/2016 7:18</td>\n",
       "      <td>58</td>\n",
       "    </tr>\n",
       "    <tr>\n",
       "      <th>3</th>\n",
       "      <td>123.0</td>\n",
       "      <td>1/5/2016 7:19</td>\n",
       "      <td>93</td>\n",
       "    </tr>\n",
       "    <tr>\n",
       "      <th>4</th>\n",
       "      <td>123.0</td>\n",
       "      <td>1/5/2016 7:20</td>\n",
       "      <td>35</td>\n",
       "    </tr>\n",
       "  </tbody>\n",
       "</table>\n",
       "</div>"
      ],
      "text/plain": [
       "   PERSON_ID           TIME SYSTOLIC_BLOOD_PRESSURE\n",
       "0      123.0  1/5/2016 7:16                      33\n",
       "1      123.0  1/5/2016 7:17                      75\n",
       "2      123.0  1/5/2016 7:18                      58\n",
       "3      123.0  1/5/2016 7:19                      93\n",
       "4      123.0  1/5/2016 7:20                      35"
      ]
     },
     "execution_count": 60,
     "metadata": {},
     "output_type": "execute_result"
    }
   ],
   "source": [
    "blood_pressure_df.head()"
   ]
  },
  {
   "cell_type": "code",
   "execution_count": null,
   "id": "e7a15b6d",
   "metadata": {
    "hidden": true
   },
   "outputs": [],
   "source": []
  },
  {
   "cell_type": "code",
   "execution_count": null,
   "id": "db11a5e8",
   "metadata": {
    "hidden": true
   },
   "outputs": [],
   "source": [
    "##  Check the shape, data type, and format of the data"
   ]
  },
  {
   "cell_type": "code",
   "execution_count": 17,
   "id": "c4fe9f29",
   "metadata": {
    "hidden": true
   },
   "outputs": [
    {
     "name": "stdout",
     "output_type": "stream",
     "text": [
      "blood_pressure_df Shape: (1593, 3)\n",
      "<class 'pandas.core.frame.DataFrame'>\n",
      "RangeIndex: 1593 entries, 0 to 1592\n",
      "Data columns (total 3 columns):\n",
      " #   Column                   Non-Null Count  Dtype  \n",
      "---  ------                   --------------  -----  \n",
      " 0   PERSON_ID                1581 non-null   float64\n",
      " 1   TIME                     1581 non-null   object \n",
      " 2   SYSTOLIC_BLOOD_PRESSURE  1580 non-null   object \n",
      "dtypes: float64(1), object(2)\n",
      "memory usage: 37.5+ KB\n"
     ]
    }
   ],
   "source": [
    "print('blood_pressure_df Shape:', blood_pressure_df.shape)\n",
    "\n",
    "blood_pressure_df.info()"
   ]
  },
  {
   "cell_type": "code",
   "execution_count": 21,
   "id": "430318e9",
   "metadata": {
    "hidden": true
   },
   "outputs": [
    {
     "name": "stdout",
     "output_type": "stream",
     "text": [
      "demographics_df Shape: (17, 3)\n",
      "<class 'pandas.core.frame.DataFrame'>\n",
      "RangeIndex: 17 entries, 0 to 16\n",
      "Data columns (total 3 columns):\n",
      " #   Column        Non-Null Count  Dtype \n",
      "---  ------        --------------  ----- \n",
      " 0   PERSON_ID     17 non-null     int64 \n",
      " 1   SERVICE_DATE  17 non-null     object\n",
      " 2   AGE_MONTHS    17 non-null     int64 \n",
      "dtypes: int64(2), object(1)\n",
      "memory usage: 540.0+ bytes\n"
     ]
    }
   ],
   "source": [
    "print('demographics_df Shape:', demographics_df.shape)\n",
    "\n",
    "demographics_df.info()"
   ]
  },
  {
   "cell_type": "code",
   "execution_count": null,
   "id": "e02f1abf",
   "metadata": {
    "hidden": true
   },
   "outputs": [],
   "source": []
  },
  {
   "cell_type": "code",
   "execution_count": 49,
   "id": "288daab1",
   "metadata": {
    "hidden": true
   },
   "outputs": [
    {
     "data": {
      "text/plain": [
       "PERSON_ID                  12\n",
       "TIME                       12\n",
       "SYSTOLIC_BLOOD_PRESSURE    13\n",
       "dtype: int64"
      ]
     },
     "execution_count": 49,
     "metadata": {},
     "output_type": "execute_result"
    }
   ],
   "source": [
    "# Checking for missing values in the blood_pressure_df\n",
    "\n",
    "blood_pressure_df.isnull().sum()"
   ]
  },
  {
   "cell_type": "code",
   "execution_count": 50,
   "id": "95d0ea3a",
   "metadata": {
    "hidden": true
   },
   "outputs": [
    {
     "data": {
      "text/plain": [
       "PERSON_ID       0\n",
       "SERVICE_DATE    0\n",
       "AGE_MONTHS      0\n",
       "dtype: int64"
      ]
     },
     "execution_count": 50,
     "metadata": {},
     "output_type": "execute_result"
    }
   ],
   "source": [
    "# Checking for missing values in the demographics_df\n",
    "\n",
    "demographics_df.isnull().sum()"
   ]
  },
  {
   "cell_type": "code",
   "execution_count": null,
   "id": "9c9b1695",
   "metadata": {
    "hidden": true
   },
   "outputs": [],
   "source": []
  },
  {
   "cell_type": "code",
   "execution_count": 51,
   "id": "17ebb73e",
   "metadata": {
    "hidden": true
   },
   "outputs": [
    {
     "data": {
      "text/html": [
       "<div>\n",
       "<style scoped>\n",
       "    .dataframe tbody tr th:only-of-type {\n",
       "        vertical-align: middle;\n",
       "    }\n",
       "\n",
       "    .dataframe tbody tr th {\n",
       "        vertical-align: top;\n",
       "    }\n",
       "\n",
       "    .dataframe thead th {\n",
       "        text-align: right;\n",
       "    }\n",
       "</style>\n",
       "<table border=\"1\" class=\"dataframe\">\n",
       "  <thead>\n",
       "    <tr style=\"text-align: right;\">\n",
       "      <th></th>\n",
       "      <th>PERSON_ID</th>\n",
       "      <th>TIME</th>\n",
       "      <th>SYSTOLIC_BLOOD_PRESSURE</th>\n",
       "    </tr>\n",
       "  </thead>\n",
       "  <tbody>\n",
       "    <tr>\n",
       "      <th>1487</th>\n",
       "      <td>987.0</td>\n",
       "      <td>2/17/2016 12:18</td>\n",
       "      <td>42</td>\n",
       "    </tr>\n",
       "    <tr>\n",
       "      <th>1488</th>\n",
       "      <td>987.0</td>\n",
       "      <td>2/17/2016 12:18</td>\n",
       "      <td>42</td>\n",
       "    </tr>\n",
       "    <tr>\n",
       "      <th>1489</th>\n",
       "      <td>987.0</td>\n",
       "      <td>2/17/2016 12:18</td>\n",
       "      <td>42</td>\n",
       "    </tr>\n",
       "    <tr>\n",
       "      <th>1492</th>\n",
       "      <td>987.0</td>\n",
       "      <td>2/17/2016 12:19</td>\n",
       "      <td>40</td>\n",
       "    </tr>\n",
       "    <tr>\n",
       "      <th>1582</th>\n",
       "      <td>NaN</td>\n",
       "      <td>NaN</td>\n",
       "      <td>NaN</td>\n",
       "    </tr>\n",
       "  </tbody>\n",
       "</table>\n",
       "</div>"
      ],
      "text/plain": [
       "      PERSON_ID             TIME SYSTOLIC_BLOOD_PRESSURE\n",
       "1487      987.0  2/17/2016 12:18                      42\n",
       "1488      987.0  2/17/2016 12:18                      42\n",
       "1489      987.0  2/17/2016 12:18                      42\n",
       "1492      987.0  2/17/2016 12:19                      40\n",
       "1582        NaN              NaN                     NaN"
      ]
     },
     "execution_count": 51,
     "metadata": {},
     "output_type": "execute_result"
    }
   ],
   "source": [
    "# Checking for duplication or duplicated data.\n",
    "\n",
    "blood_pressure_df[blood_pressure_df.duplicated()].head()"
   ]
  },
  {
   "cell_type": "code",
   "execution_count": 52,
   "id": "cab96903",
   "metadata": {
    "hidden": true
   },
   "outputs": [
    {
     "data": {
      "text/html": [
       "<div>\n",
       "<style scoped>\n",
       "    .dataframe tbody tr th:only-of-type {\n",
       "        vertical-align: middle;\n",
       "    }\n",
       "\n",
       "    .dataframe tbody tr th {\n",
       "        vertical-align: top;\n",
       "    }\n",
       "\n",
       "    .dataframe thead th {\n",
       "        text-align: right;\n",
       "    }\n",
       "</style>\n",
       "<table border=\"1\" class=\"dataframe\">\n",
       "  <thead>\n",
       "    <tr style=\"text-align: right;\">\n",
       "      <th></th>\n",
       "      <th>PERSON_ID</th>\n",
       "      <th>SERVICE_DATE</th>\n",
       "      <th>AGE_MONTHS</th>\n",
       "    </tr>\n",
       "  </thead>\n",
       "  <tbody>\n",
       "  </tbody>\n",
       "</table>\n",
       "</div>"
      ],
      "text/plain": [
       "Empty DataFrame\n",
       "Columns: [PERSON_ID, SERVICE_DATE, AGE_MONTHS]\n",
       "Index: []"
      ]
     },
     "execution_count": 52,
     "metadata": {},
     "output_type": "execute_result"
    }
   ],
   "source": [
    "demographics_df# Checking for duplication or duplicated data.\n",
    "\n",
    "demographics_df[demographics_df.duplicated()]"
   ]
  },
  {
   "cell_type": "code",
   "execution_count": null,
   "id": "89a3b9e8",
   "metadata": {
    "hidden": true
   },
   "outputs": [],
   "source": []
  },
  {
   "cell_type": "markdown",
   "id": "574ee6f5",
   "metadata": {
    "heading_collapsed": true
   },
   "source": [
    "### Observations from Initial Data Load"
   ]
  },
  {
   "cell_type": "code",
   "execution_count": 53,
   "id": "820824a9",
   "metadata": {
    "hidden": true
   },
   "outputs": [],
   "source": [
    "# Demographics df: \n",
    "# 1. Contains PERSON_ID, SERVICE_DATE, and AGE_MONTHS.\n",
    "# 2. SERVICE_DATE is in object data type and needs to be converted to datetime format.\n",
    "\n",
    "# BloodPressure df:\n",
    "\n",
    "# 1. Contains PERSON_ID, TIME, and SYSTOLIC_BLOOD_PRESSURE.\n",
    "# 2. PERSON_ID is in float format (needs converted to integer).\n",
    "# 3. TIME contains both date and time (we need to extract date for merging).\n",
    "# 4. Contains both missing and duplicated values.\n",
    "\n",
    "# 5. The BloodPressure df file contains completely empty rows with missing values in all columns, including PERSON_ID, \n",
    "# TIME, and SYSTOLIC_BLOOD_PRESSURE. These rows are likely corrupt or extra blank rows and should be removed."
   ]
  },
  {
   "cell_type": "markdown",
   "id": "9f700b57",
   "metadata": {
    "heading_collapsed": true
   },
   "source": [
    "### Step 2: Data Cleaning & Transformation"
   ]
  },
  {
   "cell_type": "markdown",
   "id": "837a6943",
   "metadata": {
    "hidden": true
   },
   "source": [
    "✔ **Remove rows from the blood_pressure_df where all values are NaN**\n",
    "\n",
    "✔ **Convert PERSON_ID from BloodPressure df to integer.**\n",
    "\n",
    "✔ **Convert SERVICE_DATE and TIME to datetime format.**\n",
    "\n",
    "✔ **Extract only the date from TIME in BloodPressure df to enable proper merging**\n",
    "\n",
    "✔ **Remove rows from the blood_pressure_df with Error values**\n",
    "\n",
    "✔ **Deduped and take care of missing values from the BloodPressure df.**"
   ]
  },
  {
   "cell_type": "code",
   "execution_count": 3,
   "id": "bd48a857",
   "metadata": {
    "hidden": true
   },
   "outputs": [],
   "source": [
    "# Remove rows from the blood_pressure_df where all values are NaN\n",
    "blood_pressure_df = blood_pressure_df.dropna(how=\"any\")"
   ]
  },
  {
   "cell_type": "code",
   "execution_count": 4,
   "id": "d6876ecf",
   "metadata": {
    "hidden": true
   },
   "outputs": [
    {
     "data": {
      "text/plain": [
       "PERSON_ID                  0\n",
       "TIME                       0\n",
       "SYSTOLIC_BLOOD_PRESSURE    0\n",
       "dtype: int64"
      ]
     },
     "execution_count": 4,
     "metadata": {},
     "output_type": "execute_result"
    }
   ],
   "source": [
    "# Rechecking for missing values in the blood_pressure_df\n",
    "blood_pressure_df.isnull().sum()"
   ]
  },
  {
   "cell_type": "code",
   "execution_count": null,
   "id": "e78d187c",
   "metadata": {
    "hidden": true
   },
   "outputs": [],
   "source": []
  },
  {
   "cell_type": "code",
   "execution_count": 5,
   "id": "0c130f7c",
   "metadata": {
    "hidden": true
   },
   "outputs": [],
   "source": [
    "# Convert PERSON_ID to integer for consistency\n",
    "blood_pressure_df[\"PERSON_ID\"] =  blood_pressure_df['PERSON_ID'].astype(int)"
   ]
  },
  {
   "cell_type": "code",
   "execution_count": 6,
   "id": "73a29410",
   "metadata": {
    "hidden": true
   },
   "outputs": [],
   "source": [
    "# Convert SERVICE_DATE and TIME to datetime format\n",
    "demographics_df[\"SERVICE_DATE\"] = pd.to_datetime(demographics_df['SERVICE_DATE'])\n",
    "blood_pressure_df[\"TIME\"] = pd.to_datetime(blood_pressure_df['TIME'])"
   ]
  },
  {
   "cell_type": "code",
   "execution_count": 7,
   "id": "663e9513",
   "metadata": {
    "hidden": true
   },
   "outputs": [
    {
     "data": {
      "text/html": [
       "<div>\n",
       "<style scoped>\n",
       "    .dataframe tbody tr th:only-of-type {\n",
       "        vertical-align: middle;\n",
       "    }\n",
       "\n",
       "    .dataframe tbody tr th {\n",
       "        vertical-align: top;\n",
       "    }\n",
       "\n",
       "    .dataframe thead th {\n",
       "        text-align: right;\n",
       "    }\n",
       "</style>\n",
       "<table border=\"1\" class=\"dataframe\">\n",
       "  <thead>\n",
       "    <tr style=\"text-align: right;\">\n",
       "      <th></th>\n",
       "      <th>PERSON_ID</th>\n",
       "      <th>TIME</th>\n",
       "      <th>SYSTOLIC_BLOOD_PRESSURE</th>\n",
       "      <th>SERVICEDATE</th>\n",
       "    </tr>\n",
       "  </thead>\n",
       "  <tbody>\n",
       "    <tr>\n",
       "      <th>0</th>\n",
       "      <td>123</td>\n",
       "      <td>2016-01-05 07:16:00</td>\n",
       "      <td>33</td>\n",
       "      <td>2016-01-05</td>\n",
       "    </tr>\n",
       "    <tr>\n",
       "      <th>1</th>\n",
       "      <td>123</td>\n",
       "      <td>2016-01-05 07:17:00</td>\n",
       "      <td>75</td>\n",
       "      <td>2016-01-05</td>\n",
       "    </tr>\n",
       "    <tr>\n",
       "      <th>2</th>\n",
       "      <td>123</td>\n",
       "      <td>2016-01-05 07:18:00</td>\n",
       "      <td>58</td>\n",
       "      <td>2016-01-05</td>\n",
       "    </tr>\n",
       "    <tr>\n",
       "      <th>3</th>\n",
       "      <td>123</td>\n",
       "      <td>2016-01-05 07:19:00</td>\n",
       "      <td>93</td>\n",
       "      <td>2016-01-05</td>\n",
       "    </tr>\n",
       "    <tr>\n",
       "      <th>4</th>\n",
       "      <td>123</td>\n",
       "      <td>2016-01-05 07:20:00</td>\n",
       "      <td>35</td>\n",
       "      <td>2016-01-05</td>\n",
       "    </tr>\n",
       "  </tbody>\n",
       "</table>\n",
       "</div>"
      ],
      "text/plain": [
       "   PERSON_ID                TIME SYSTOLIC_BLOOD_PRESSURE SERVICEDATE\n",
       "0        123 2016-01-05 07:16:00                      33  2016-01-05\n",
       "1        123 2016-01-05 07:17:00                      75  2016-01-05\n",
       "2        123 2016-01-05 07:18:00                      58  2016-01-05\n",
       "3        123 2016-01-05 07:19:00                      93  2016-01-05\n",
       "4        123 2016-01-05 07:20:00                      35  2016-01-05"
      ]
     },
     "execution_count": 7,
     "metadata": {},
     "output_type": "execute_result"
    }
   ],
   "source": [
    "# Extract the date part from TIME for merging\n",
    "blood_pressure_df[\"SERVICEDATE\"] = blood_pressure_df['TIME'].dt.date\n",
    "blood_pressure_df[\"SERVICEDATE\"] = pd.to_datetime(blood_pressure_df['SERVICEDATE'])\n",
    "\n",
    "blood_pressure_df.head()"
   ]
  },
  {
   "cell_type": "code",
   "execution_count": null,
   "id": "a9e2801b",
   "metadata": {
    "hidden": true
   },
   "outputs": [],
   "source": []
  },
  {
   "cell_type": "code",
   "execution_count": 148,
   "id": "d01dd99b",
   "metadata": {
    "hidden": true
   },
   "outputs": [
    {
     "data": {
      "text/plain": [
       "1572"
      ]
     },
     "execution_count": 148,
     "metadata": {},
     "output_type": "execute_result"
    }
   ],
   "source": [
    "blood_pressure_df.PERSON_ID.duplicated().sum()"
   ]
  },
  {
   "cell_type": "code",
   "execution_count": 149,
   "id": "b85d42af",
   "metadata": {
    "hidden": true
   },
   "outputs": [
    {
     "data": {
      "text/plain": [
       "4"
      ]
     },
     "execution_count": 149,
     "metadata": {},
     "output_type": "execute_result"
    }
   ],
   "source": [
    "blood_pressure_df.duplicated().sum()"
   ]
  },
  {
   "cell_type": "code",
   "execution_count": 150,
   "id": "952b9e48",
   "metadata": {
    "hidden": true
   },
   "outputs": [
    {
     "data": {
      "text/html": [
       "<div>\n",
       "<style scoped>\n",
       "    .dataframe tbody tr th:only-of-type {\n",
       "        vertical-align: middle;\n",
       "    }\n",
       "\n",
       "    .dataframe tbody tr th {\n",
       "        vertical-align: top;\n",
       "    }\n",
       "\n",
       "    .dataframe thead th {\n",
       "        text-align: right;\n",
       "    }\n",
       "</style>\n",
       "<table border=\"1\" class=\"dataframe\">\n",
       "  <thead>\n",
       "    <tr style=\"text-align: right;\">\n",
       "      <th></th>\n",
       "      <th>PERSON_ID</th>\n",
       "      <th>TIME</th>\n",
       "      <th>SYSTOLIC_BLOOD_PRESSURE</th>\n",
       "      <th>SERVICEDATE</th>\n",
       "    </tr>\n",
       "  </thead>\n",
       "  <tbody>\n",
       "    <tr>\n",
       "      <th>1487</th>\n",
       "      <td>987</td>\n",
       "      <td>2016-02-17 12:18:00</td>\n",
       "      <td>42</td>\n",
       "      <td>2016-02-17</td>\n",
       "    </tr>\n",
       "    <tr>\n",
       "      <th>1488</th>\n",
       "      <td>987</td>\n",
       "      <td>2016-02-17 12:18:00</td>\n",
       "      <td>42</td>\n",
       "      <td>2016-02-17</td>\n",
       "    </tr>\n",
       "    <tr>\n",
       "      <th>1489</th>\n",
       "      <td>987</td>\n",
       "      <td>2016-02-17 12:18:00</td>\n",
       "      <td>42</td>\n",
       "      <td>2016-02-17</td>\n",
       "    </tr>\n",
       "    <tr>\n",
       "      <th>1492</th>\n",
       "      <td>987</td>\n",
       "      <td>2016-02-17 12:19:00</td>\n",
       "      <td>40</td>\n",
       "      <td>2016-02-17</td>\n",
       "    </tr>\n",
       "  </tbody>\n",
       "</table>\n",
       "</div>"
      ],
      "text/plain": [
       "      PERSON_ID                TIME SYSTOLIC_BLOOD_PRESSURE SERVICEDATE\n",
       "1487        987 2016-02-17 12:18:00                      42  2016-02-17\n",
       "1488        987 2016-02-17 12:18:00                      42  2016-02-17\n",
       "1489        987 2016-02-17 12:18:00                      42  2016-02-17\n",
       "1492        987 2016-02-17 12:19:00                      40  2016-02-17"
      ]
     },
     "execution_count": 150,
     "metadata": {},
     "output_type": "execute_result"
    }
   ],
   "source": [
    "# Identifying the duplicated four rows of data/record in the dataframe\n",
    "blood_pressure_df.loc[blood_pressure_df.duplicated()]"
   ]
  },
  {
   "cell_type": "code",
   "execution_count": null,
   "id": "bbb0149e",
   "metadata": {
    "hidden": true
   },
   "outputs": [],
   "source": []
  },
  {
   "cell_type": "code",
   "execution_count": 8,
   "id": "008a8e6e",
   "metadata": {
    "hidden": true
   },
   "outputs": [],
   "source": [
    "blood_pressure_df.drop_duplicates(keep='first', inplace=True)"
   ]
  },
  {
   "cell_type": "code",
   "execution_count": null,
   "id": "f40cf5ef",
   "metadata": {
    "hidden": true
   },
   "outputs": [],
   "source": []
  },
  {
   "cell_type": "code",
   "execution_count": 9,
   "id": "6dd26c5c",
   "metadata": {
    "hidden": true
   },
   "outputs": [
    {
     "data": {
      "text/plain": [
       "0"
      ]
     },
     "execution_count": 9,
     "metadata": {},
     "output_type": "execute_result"
    }
   ],
   "source": [
    "blood_pressure_df.duplicated().sum()"
   ]
  },
  {
   "cell_type": "code",
   "execution_count": null,
   "id": "0950914f",
   "metadata": {
    "hidden": true
   },
   "outputs": [],
   "source": []
  },
  {
   "cell_type": "code",
   "execution_count": 10,
   "id": "aef0d212",
   "metadata": {
    "hidden": true
   },
   "outputs": [
    {
     "data": {
      "text/html": [
       "<div>\n",
       "<style scoped>\n",
       "    .dataframe tbody tr th:only-of-type {\n",
       "        vertical-align: middle;\n",
       "    }\n",
       "\n",
       "    .dataframe tbody tr th {\n",
       "        vertical-align: top;\n",
       "    }\n",
       "\n",
       "    .dataframe thead th {\n",
       "        text-align: right;\n",
       "    }\n",
       "</style>\n",
       "<table border=\"1\" class=\"dataframe\">\n",
       "  <thead>\n",
       "    <tr style=\"text-align: right;\">\n",
       "      <th></th>\n",
       "      <th>PERSON_ID</th>\n",
       "      <th>TIME</th>\n",
       "      <th>SYSTOLIC_BLOOD_PRESSURE</th>\n",
       "      <th>SERVICEDATE</th>\n",
       "      <th>SERVICE_DATE</th>\n",
       "      <th>AGE_MONTHS</th>\n",
       "    </tr>\n",
       "  </thead>\n",
       "  <tbody>\n",
       "    <tr>\n",
       "      <th>0</th>\n",
       "      <td>123</td>\n",
       "      <td>2016-01-05 07:16:00</td>\n",
       "      <td>33</td>\n",
       "      <td>2016-01-05</td>\n",
       "      <td>2016-01-05</td>\n",
       "      <td>46</td>\n",
       "    </tr>\n",
       "    <tr>\n",
       "      <th>1</th>\n",
       "      <td>123</td>\n",
       "      <td>2016-01-05 07:17:00</td>\n",
       "      <td>75</td>\n",
       "      <td>2016-01-05</td>\n",
       "      <td>2016-01-05</td>\n",
       "      <td>46</td>\n",
       "    </tr>\n",
       "    <tr>\n",
       "      <th>2</th>\n",
       "      <td>123</td>\n",
       "      <td>2016-01-05 07:18:00</td>\n",
       "      <td>58</td>\n",
       "      <td>2016-01-05</td>\n",
       "      <td>2016-01-05</td>\n",
       "      <td>46</td>\n",
       "    </tr>\n",
       "    <tr>\n",
       "      <th>3</th>\n",
       "      <td>123</td>\n",
       "      <td>2016-01-05 07:19:00</td>\n",
       "      <td>93</td>\n",
       "      <td>2016-01-05</td>\n",
       "      <td>2016-01-05</td>\n",
       "      <td>46</td>\n",
       "    </tr>\n",
       "    <tr>\n",
       "      <th>4</th>\n",
       "      <td>123</td>\n",
       "      <td>2016-01-05 07:20:00</td>\n",
       "      <td>35</td>\n",
       "      <td>2016-01-05</td>\n",
       "      <td>2016-01-05</td>\n",
       "      <td>46</td>\n",
       "    </tr>\n",
       "  </tbody>\n",
       "</table>\n",
       "</div>"
      ],
      "text/plain": [
       "   PERSON_ID                TIME SYSTOLIC_BLOOD_PRESSURE SERVICEDATE  \\\n",
       "0        123 2016-01-05 07:16:00                      33  2016-01-05   \n",
       "1        123 2016-01-05 07:17:00                      75  2016-01-05   \n",
       "2        123 2016-01-05 07:18:00                      58  2016-01-05   \n",
       "3        123 2016-01-05 07:19:00                      93  2016-01-05   \n",
       "4        123 2016-01-05 07:20:00                      35  2016-01-05   \n",
       "\n",
       "  SERVICE_DATE  AGE_MONTHS  \n",
       "0   2016-01-05          46  \n",
       "1   2016-01-05          46  \n",
       "2   2016-01-05          46  \n",
       "3   2016-01-05          46  \n",
       "4   2016-01-05          46  "
      ]
     },
     "execution_count": 10,
     "metadata": {},
     "output_type": "execute_result"
    }
   ],
   "source": [
    "# Merge the two datasets on PERSON_ID and SERVICEDATE\n",
    "merged_df = pd.merge(blood_pressure_df, demographics_df, left_on=['PERSON_ID', 'SERVICEDATE'], right_on=['PERSON_ID', \n",
    "                                                                                                         'SERVICE_DATE'], \n",
    "                     how=\"inner\")\n",
    "\n",
    "# Display cleaned and merged dataset\n",
    "merged_df.head()"
   ]
  },
  {
   "cell_type": "code",
   "execution_count": null,
   "id": "f030a22e",
   "metadata": {
    "hidden": true
   },
   "outputs": [],
   "source": []
  },
  {
   "cell_type": "code",
   "execution_count": 11,
   "id": "1e805c0f",
   "metadata": {
    "hidden": true
   },
   "outputs": [
    {
     "data": {
      "text/plain": [
       "(1540, 6)"
      ]
     },
     "execution_count": 11,
     "metadata": {},
     "output_type": "execute_result"
    }
   ],
   "source": [
    "# Rechecking for missing values after merging the dataframe\n",
    "merged_df.shape"
   ]
  },
  {
   "cell_type": "code",
   "execution_count": 12,
   "id": "f8465a6e",
   "metadata": {
    "hidden": true
   },
   "outputs": [
    {
     "data": {
      "text/plain": [
       "PERSON_ID                  0\n",
       "TIME                       0\n",
       "SYSTOLIC_BLOOD_PRESSURE    0\n",
       "SERVICEDATE                0\n",
       "SERVICE_DATE               0\n",
       "AGE_MONTHS                 0\n",
       "dtype: int64"
      ]
     },
     "execution_count": 12,
     "metadata": {},
     "output_type": "execute_result"
    }
   ],
   "source": [
    "merged_df.isnull().sum()"
   ]
  },
  {
   "cell_type": "code",
   "execution_count": 13,
   "id": "2c44c02e",
   "metadata": {
    "hidden": true
   },
   "outputs": [
    {
     "data": {
      "text/plain": [
       "PERSON_ID                           int32\n",
       "TIME                       datetime64[ns]\n",
       "SYSTOLIC_BLOOD_PRESSURE            object\n",
       "SERVICEDATE                datetime64[ns]\n",
       "SERVICE_DATE               datetime64[ns]\n",
       "AGE_MONTHS                          int64\n",
       "dtype: object"
      ]
     },
     "execution_count": 13,
     "metadata": {},
     "output_type": "execute_result"
    }
   ],
   "source": [
    "merged_df.dtypes"
   ]
  },
  {
   "cell_type": "code",
   "execution_count": 14,
   "id": "5404bd72",
   "metadata": {
    "hidden": true
   },
   "outputs": [
    {
     "data": {
      "text/plain": [
       "array(['33', '75', '58', '93', '35', '52', '73', '46', '41', '43', '90',\n",
       "       '34', '50', '85', '67', '65', '36', '48', '84', '98', '51', '86',\n",
       "       '31', '72', '61', '68', '44', '66', '94', '100', '87', '80', '38',\n",
       "       '97', '92', '49', '77', '78', '88', '55', '91', '64', '79', '53',\n",
       "       '82', '47', '74', '45', '89', '71', '70', '30', '63', '95', '37',\n",
       "       '60', '81', '39', '40', '42', '69', '57', '83', '32', '99', '56',\n",
       "       '59', '96', '54', '76', '62', '0', 'ERROR'], dtype=object)"
      ]
     },
     "execution_count": 14,
     "metadata": {},
     "output_type": "execute_result"
    }
   ],
   "source": [
    "merged_df['SYSTOLIC_BLOOD_PRESSURE'].unique()"
   ]
  },
  {
   "cell_type": "code",
   "execution_count": 15,
   "id": "7c903c16",
   "metadata": {
    "hidden": true
   },
   "outputs": [],
   "source": [
    "merged_df = merged_df.loc[merged_df['SYSTOLIC_BLOOD_PRESSURE']!='ERROR']"
   ]
  },
  {
   "cell_type": "code",
   "execution_count": null,
   "id": "67ce6761",
   "metadata": {
    "hidden": true
   },
   "outputs": [],
   "source": []
  },
  {
   "cell_type": "code",
   "execution_count": 16,
   "id": "02d930bd",
   "metadata": {
    "hidden": true
   },
   "outputs": [],
   "source": [
    "# Convert SYSTOLIC_BLOOD_PRESSURE to integer for consistency\n",
    "merged_df[\"SYSTOLIC_BLOOD_PRESSURE\"] =  merged_df['SYSTOLIC_BLOOD_PRESSURE'].astype(int)"
   ]
  },
  {
   "cell_type": "code",
   "execution_count": 17,
   "id": "48007a93",
   "metadata": {
    "hidden": true
   },
   "outputs": [
    {
     "data": {
      "text/plain": [
       "array([ 33,  75,  58,  93,  35,  52,  73,  46,  41,  43,  90,  34,  50,\n",
       "        85,  67,  65,  36,  48,  84,  98,  51,  86,  31,  72,  61,  68,\n",
       "        44,  66,  94, 100,  87,  80,  38,  97,  92,  49,  77,  78,  88,\n",
       "        55,  91,  64,  79,  53,  82,  47,  74,  45,  89,  71,  70,  30,\n",
       "        63,  95,  37,  60,  81,  39,  40,  42,  69,  57,  83,  32,  99,\n",
       "        56,  59,  96,  54,  76,  62,   0])"
      ]
     },
     "execution_count": 17,
     "metadata": {},
     "output_type": "execute_result"
    }
   ],
   "source": [
    "merged_df['SYSTOLIC_BLOOD_PRESSURE'].unique()"
   ]
  },
  {
   "cell_type": "code",
   "execution_count": 18,
   "id": "479292f6",
   "metadata": {
    "hidden": true
   },
   "outputs": [],
   "source": [
    "merged_df.to_excel(\"BCH_Low_Blood_Pressure_Analysis.xlsx\", index=False)"
   ]
  },
  {
   "cell_type": "markdown",
   "id": "4aeb9a71",
   "metadata": {
    "heading_collapsed": true
   },
   "source": [
    "### Step 3: Identifying Low Blood Pressure Cases"
   ]
  },
  {
   "cell_type": "markdown",
   "id": "8a8aaeb0",
   "metadata": {
    "hidden": true
   },
   "source": [
    "✔ **Create a strategy for finding periods of low blood pressure lasting 14+ minutes.**\n",
    "\n",
    "✔ **If AGE_MONTHS < 44, low BP is ≤ 46 mmHg.**\n",
    "\n",
    "✔ **If AGE_MONTHS ≥ 44, low BP is ≤ 55 mmHg.**\n",
    "\n",
    "✔ **Identify periods where BP remains low for 14+ consecutive minutes.**"
   ]
  },
  {
   "cell_type": "code",
   "execution_count": 164,
   "id": "18f29fbd",
   "metadata": {
    "hidden": true
   },
   "outputs": [],
   "source": [
    "# Define low blood pressure thresholds based on age\n",
    "merged_df[\"LOW_BP_THRESHOLD\"] = merged_df[\"AGE_MONTHS\"].apply(lambda x: 46 if x < 44 else 55)"
   ]
  },
  {
   "cell_type": "code",
   "execution_count": 165,
   "id": "d7944644",
   "metadata": {
    "hidden": true
   },
   "outputs": [],
   "source": [
    "# Identify rows where blood pressure is below the threshold\n",
    "merged_df[\"IS_LOW_BP\"] = merged_df[\"SYSTOLIC_BLOOD_PRESSURE\"] <= merged_df[\"LOW_BP_THRESHOLD\"]"
   ]
  },
  {
   "cell_type": "code",
   "execution_count": 166,
   "id": "ac0e874a",
   "metadata": {
    "hidden": true
   },
   "outputs": [],
   "source": [
    "# Sort by PERSON_ID and TIME for proper consecutive analysis\n",
    "merged_df = merged_df.sort_values(by=[\"PERSON_ID\", \"TIME\"])"
   ]
  },
  {
   "cell_type": "code",
   "execution_count": null,
   "id": "2eead224",
   "metadata": {
    "hidden": true
   },
   "outputs": [],
   "source": []
  },
  {
   "cell_type": "code",
   "execution_count": 167,
   "id": "f4bb0f97",
   "metadata": {
    "hidden": true
   },
   "outputs": [],
   "source": [
    "# Group by PERSON_ID and SERVICE_DATE for consecutive analysis\n",
    "low_bp_cases = []\n",
    "for (person_id, service_date), group in merged_df.groupby([\"PERSON_ID\", \"SERVICEDATE\"]):\n",
    "    group = group.sort_values(by=\"TIME\")\n",
    "\n",
    "    # Identify consecutive low blood pressure periods\n",
    "    low_bp_periods = []\n",
    "    start_time = None\n",
    "    duration = 0\n",
    "\n",
    "    for i in range(len(group)):\n",
    "        if group.iloc[i][\"IS_LOW_BP\"]:\n",
    "            if start_time is None:\n",
    "                start_time = group.iloc[i][\"TIME\"]\n",
    "                duration = 1  # Start with 1 minute\n",
    "            else:\n",
    "                duration += 1  # Increment duration\n",
    "        else:\n",
    "            if duration >= 14:\n",
    "                low_bp_periods.append((person_id, service_date, duration))\n",
    "            start_time = None\n",
    "            duration = 0\n",
    "\n",
    "    # Capture the final period if it meets the criteria\n",
    "    if duration >= 14:\n",
    "        low_bp_periods.append((person_id, service_date, duration))\n",
    "\n",
    "    low_bp_cases.extend(low_bp_periods)"
   ]
  },
  {
   "cell_type": "code",
   "execution_count": null,
   "id": "805a9fe2",
   "metadata": {
    "hidden": true
   },
   "outputs": [],
   "source": []
  },
  {
   "cell_type": "code",
   "execution_count": 168,
   "id": "17a56a88",
   "metadata": {
    "hidden": true
   },
   "outputs": [
    {
     "data": {
      "text/html": [
       "<div>\n",
       "<style scoped>\n",
       "    .dataframe tbody tr th:only-of-type {\n",
       "        vertical-align: middle;\n",
       "    }\n",
       "\n",
       "    .dataframe tbody tr th {\n",
       "        vertical-align: top;\n",
       "    }\n",
       "\n",
       "    .dataframe thead th {\n",
       "        text-align: right;\n",
       "    }\n",
       "</style>\n",
       "<table border=\"1\" class=\"dataframe\">\n",
       "  <thead>\n",
       "    <tr style=\"text-align: right;\">\n",
       "      <th></th>\n",
       "      <th>PERSON_ID</th>\n",
       "      <th>SERVICE_DATE</th>\n",
       "      <th>DURATION_MINUTES</th>\n",
       "    </tr>\n",
       "  </thead>\n",
       "  <tbody>\n",
       "    <tr>\n",
       "      <th>0</th>\n",
       "      <td>123</td>\n",
       "      <td>2016-01-05</td>\n",
       "      <td>14</td>\n",
       "    </tr>\n",
       "    <tr>\n",
       "      <th>1</th>\n",
       "      <td>456</td>\n",
       "      <td>2015-05-21</td>\n",
       "      <td>20</td>\n",
       "    </tr>\n",
       "    <tr>\n",
       "      <th>2</th>\n",
       "      <td>567</td>\n",
       "      <td>2019-05-10</td>\n",
       "      <td>14</td>\n",
       "    </tr>\n",
       "    <tr>\n",
       "      <th>3</th>\n",
       "      <td>789</td>\n",
       "      <td>2017-07-07</td>\n",
       "      <td>16</td>\n",
       "    </tr>\n",
       "    <tr>\n",
       "      <th>4</th>\n",
       "      <td>987</td>\n",
       "      <td>2016-10-17</td>\n",
       "      <td>24</td>\n",
       "    </tr>\n",
       "  </tbody>\n",
       "</table>\n",
       "</div>"
      ],
      "text/plain": [
       "   PERSON_ID SERVICE_DATE  DURATION_MINUTES\n",
       "0        123   2016-01-05                14\n",
       "1        456   2015-05-21                20\n",
       "2        567   2019-05-10                14\n",
       "3        789   2017-07-07                16\n",
       "4        987   2016-10-17                24"
      ]
     },
     "execution_count": 168,
     "metadata": {},
     "output_type": "execute_result"
    }
   ],
   "source": [
    "# Create final report DataFrame\n",
    "final_report_df = pd.DataFrame(low_bp_cases, columns=[\"PERSON_ID\", \"SERVICE_DATE\", \"DURATION_MINUTES\"])\n",
    "\n",
    "final_report_df"
   ]
  },
  {
   "cell_type": "markdown",
   "id": "dfa4e162",
   "metadata": {
    "heading_collapsed": true
   },
   "source": [
    "### Step 4: Visualizing Low Blood Pressure Cases Result"
   ]
  },
  {
   "cell_type": "code",
   "execution_count": 119,
   "id": "1a357b9d",
   "metadata": {
    "hidden": true
   },
   "outputs": [
    {
     "data": {
      "image/png": "[encoded data removed]",
      "text/plain": [
       "<Figure size 800x500 with 1 Axes>"
      ]
     },
     "metadata": {},
     "output_type": "display_data"
    }
   ],
   "source": [
    "# Create a bar chart showing the duration of low blood pressure events by patient\n",
    "plt.figure(figsize=(8, 5))\n",
    "plt.bar(final_report_df[\"PERSON_ID\"].astype(str), final_report_df[\"DURATION_MINUTES\"])\n",
    "plt.xlabel(\"Person ID\")\n",
    "plt.ylabel(\"Duration of Low BP (Minutes)\")\n",
    "plt.title(\"Duration of Low Blood Pressure Events by Patient\")\n",
    "plt.xticks(rotation=45)\n",
    "plt.grid(axis=\"y\", linestyle=\"--\", alpha=0.7)\n",
    "\n",
    "# Display the visualization\n",
    "plt.show()"
   ]
  },
  {
   "cell_type": "code",
   "execution_count": null,
   "id": "6962239c",
   "metadata": {
    "hidden": true
   },
   "outputs": [],
   "source": []
  },
  {
   "cell_type": "code",
   "execution_count": 120,
   "id": "6bd4f154",
   "metadata": {
    "hidden": true
   },
   "outputs": [
    {
     "data": {
      "image/png": "[encoded data removed]",
      "text/plain": [
       "<Figure size 1000x500 with 1 Axes>"
      ]
     },
     "metadata": {},
     "output_type": "display_data"
    }
   ],
   "source": [
    "# Create a timeline plot showing low blood pressure events over the years\n",
    "plt.figure(figsize=(10, 5))\n",
    "plt.scatter(final_report_df[\"SERVICE_DATE\"], final_report_df[\"DURATION_MINUTES\"], color=\"red\", marker=\"o\")\n",
    "plt.xlabel(\"Service Date (Surgery Date)\")\n",
    "plt.ylabel(\"Duration of Low BP (Minutes)\")\n",
    "plt.title(\"Timeline of Low Blood Pressure Events\")\n",
    "plt.xticks(rotation=45)\n",
    "plt.grid(True, linestyle=\"--\", alpha=0.7)\n",
    "\n",
    "# Display the visualization\n",
    "plt.show()"
   ]
  },
  {
   "cell_type": "code",
   "execution_count": null,
   "id": "a8b232ab",
   "metadata": {
    "hidden": true
   },
   "outputs": [],
   "source": []
  }
 ],
 "metadata": {
  "kernelspec": {
   "display_name": "Python 3 (ipykernel)",
   "language": "python",
   "name": "python3"
  },
  "language_info": {
   "codemirror_mode": {
    "name": "ipython",
    "version": 3
   },
   "file_extension": ".py",
   "mimetype": "text/x-python",
   "name": "python",
   "nbconvert_exporter": "python",
   "pygments_lexer": "ipython3",
   "version": "3.11.5"
  }
 },
 "nbformat": 4,
 "nbformat_minor": 5
}
